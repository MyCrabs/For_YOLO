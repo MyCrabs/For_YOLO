{
 "cells": [
  {
   "cell_type": "code",
   "execution_count": 1,
   "metadata": {},
   "outputs": [],
   "source": [
    "import cv2\n",
    "import os\n",
    "from tqdm import tqdm\n",
    "import albumentations as A\n",
    "from albumentations import BboxParams, Rotate\n",
    "from albumentations.core.composition import BboxParams"
   ]
  },
  {
   "cell_type": "code",
   "execution_count": 2,
   "metadata": {},
   "outputs": [],
   "source": [
    "def load_image_and_label(image_path, label_path):\n",
    "  \"\"\"\n",
    "  Loads an image and its corresponding YOLO labels from a text file.\n",
    "\n",
    "  Args:\n",
    "    image_path: Path to the image file.\n",
    "    label_path: Path to the text file containing YOLO labels.\n",
    "\n",
    "  Returns:\n",
    "    image: Loaded image as a NumPy array.\n",
    "    labels: List of bounding boxes in YOLO format (class_id, x_min, y_min, x_max, y_max).\n",
    "  \"\"\"\n",
    "  image = cv2.imread(image_path)\n",
    "  labels = []\n",
    "  with open(label_path, \"r\") as f:\n",
    "    for line in f.readlines():\n",
    "      data = line.strip().split(\" \")\n",
    "      class_id = int(data[0])\n",
    "      x_center, y_center, bbox_width, bbox_height = float(data[1]), float(data[2]), float(data[3]), float(data[4])\n",
    "      labels.append((class_id, x_center, y_center, bbox_width, bbox_height))\n",
    "  return image, labels"
   ]
  },
  {
   "cell_type": "code",
   "execution_count": 8,
   "metadata": {},
   "outputs": [],
   "source": [
    "import albumentations as A\n",
    "from albumentations.core.composition import BboxParams\n",
    "\n",
    "def augment_data(image_dir, label_dir, output_image_dir, output_label_dir, num_augmentations):\n",
    "    # Define bbox_params with label_fields\n",
    "    bbox_params = BboxParams(format='yolo', label_fields=['category_ids'])\n",
    "\n",
    "    augmenter = A.Compose([\n",
    "        #A.HorizontalFlip(p=1),\n",
    "        #A.VerticalFlip(p=1)\n",
    "        A.Blur(blur_limit=3, p=1.0)\n",
    "        #A.RandomBrightnessContrast(p=1)\n",
    "        #A.Rotate(45),\n",
    "        #A.RandomCrop(p=1),\n",
    "    ], bbox_params=bbox_params)\n",
    "\n",
    "    for filename in tqdm(os.listdir(image_dir)):\n",
    "        if filename.endswith(\".jpg\") or filename.endswith(\".png\"):\n",
    "            image_path = os.path.join(image_dir, filename)\n",
    "            label_path = os.path.join(label_dir, os.path.splitext(filename)[0] + \".txt\")\n",
    "            image, labels = load_image_and_label(image_path, label_path)\n",
    "\n",
    "            for i in range(num_augmentations):\n",
    "                bbox_coords = [label[1:] for label in labels]\n",
    "                category_ids = [label[0] for label in labels]\n",
    "                # Adjust labels to include category_ids at the end of each bounding box definition\n",
    "                augmented = augmenter(image=image, bboxes=bbox_coords, category_ids=category_ids)\n",
    "\n",
    "                augmented_image = augmented['image']\n",
    "                augmented_bbox_coords = augmented['bboxes']\n",
    "                augmented_labels = [[category_ids[idx], *box] for idx, box in enumerate(augmented_bbox_coords)]\n",
    "\n",
    "                # combined_labels = list(zip([label[0] for label in labels], augmented_labels))\n",
    "                # print(f\"combined_labels: {combined_labels}\")\n",
    "                # class_id, bbox = combined_labels\n",
    "                # final_label = [class_id] + list(bbox)\n",
    "                # #print(f\"image: {augmented_image}\")\n",
    "                print(f\"Final label: {augmented_labels}\")\n",
    "                # Create output filenames with augmentation count\n",
    "                output_image_filename = f\"{os.path.splitext(filename)[0]}_augmented_{i}.jpg\"\n",
    "                output_label_filename = f\"{os.path.splitext(filename)[0]}_augmented_{i}.txt\"\n",
    "\n",
    "                # Save augmented image and labels\n",
    "                cv2.imwrite(os.path.join(output_image_dir, output_image_filename), augmented_image)\n",
    "                with open(os.path.join(output_label_dir, output_label_filename), \"w\") as f:\n",
    "                    for label in augmented_labels:\n",
    "                        f.write(f\"{label[0]} {label[1]} {label[2]} {label[3]} {label[4]}\\n\")\n"
   ]
  },
  {
   "cell_type": "code",
   "execution_count": 9,
   "metadata": {},
   "outputs": [
    {
     "name": "stderr",
     "output_type": "stream",
     "text": [
      "100%|██████████| 2/2 [00:00<00:00, 11.84it/s]"
     ]
    },
    {
     "name": "stdout",
     "output_type": "stream",
     "text": [
      "Final label: [[1, 0.5475539999999999, 0.327087, 0.13295899999999994, 0.170358], [0, 0.54396, 0.600511, 0.14254200000000006, 0.19931900000000002]]\n",
      "Final label: [[2, 0.450483, 0.540886, 0.37251599999999996, 0.26746200000000003]]\n",
      "Successfully created 2 augmented images.\n"
     ]
    },
    {
     "name": "stderr",
     "output_type": "stream",
     "text": [
      "\n"
     ]
    }
   ],
   "source": [
    "if __name__ == \"__main__\":\n",
    "  image_dir = \"images\"  \n",
    "  label_dir = \"labels\" \n",
    "  output_image_dir = \"augmented_images\" \n",
    "  output_label_dir = \"augmented_labels\"  \n",
    "  num_augmentations = 1\n",
    "\n",
    "  # Create output directories if they don't exist\n",
    "  os.makedirs(output_image_dir, exist_ok=True)\n",
    "  os.makedirs(output_label_dir, exist_ok=True)\n",
    "\n",
    "  augment_data(image_dir, label_dir, output_image_dir, output_label_dir, num_augmentations)\n",
    "\n",
    "  print(f\"Successfully created {num_augmentations * len(os.listdir(image_dir))} augmented images.\")"
   ]
  },
  {
   "cell_type": "code",
   "execution_count": null,
   "metadata": {},
   "outputs": [],
   "source": []
  }
 ],
 "metadata": {
  "kernelspec": {
   "display_name": "Python 3",
   "language": "python",
   "name": "python3"
  },
  "language_info": {
   "codemirror_mode": {
    "name": "ipython",
    "version": 3
   },
   "file_extension": ".py",
   "mimetype": "text/x-python",
   "name": "python",
   "nbconvert_exporter": "python",
   "pygments_lexer": "ipython3",
   "version": "3.11.5"
  }
 },
 "nbformat": 4,
 "nbformat_minor": 2
}
